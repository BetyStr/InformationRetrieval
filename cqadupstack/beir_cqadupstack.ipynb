{
 "cells": [
  {
   "cell_type": "markdown",
   "id": "YaPbEXlHvd_C",
   "metadata": {
    "id": "YaPbEXlHvd_C",
    "pycharm": {
     "name": "#%% md\n"
    }
   },
   "source": [
    "# Second Term Project: CQADupStack Collection\n",
    "\n",
    "The *CQADupStack* is \"[a] Benchmark Data Set for Community Question-Answering Research\" [1] that is a part of the [*Benchmarking Information Retrieval (BEIR)*](https://github.com/beir-cellar/beir) collection.\n",
    "\n",
    "CQADupStack contains data from 12 different [*Stackexchange*](https://stackexchange.com/) subforums based on the data dump released on September 26, 2014.\n",
    "\n",
    "Your tasks, reviewed by your colleagues and the course instructors, are the following:\n",
    "\n",
    "\n",
    "\n",
    "1. *Implement a ranked retrieval system*, [1, Chapter 6] which will produce a list of documents from the CQADupStack collection in a descending order of relevance to a query from the CQADupStack collection.\n",
    "2. *Document your code* in accordance with [PEP 257](https://www.python.org/dev/peps/pep-0257/), ideally using [the NumPy style guide](https://numpydoc.readthedocs.io/en/latest/format.html#docstring-standard) as seen in the code from exercises.\n",
    "   *Stick to a consistent coding style* in accordance with [PEP 8](https://www.python.org/dev/peps/pep-0008/).\n",
    "3. *Reach at least 25% mean average precision at 10* [1, Section 8.4] with your system on the CQADupStack collection.\n",
    "4. _[Upload an .ipynb file](https://is.muni.cz/help/komunikace/spravcesouboru#k_ss_1) with this Jupyter notebook to the homework vault in IS MU._ You MAY also include a brief description of your information retrieval system and a link to an external service such as [Google Colaboratory](https://colab.research.google.com/), [DeepNote](https://deepnote.com/), or [JupyterHub](https://iirhub.cloud.e-infra.cz/).\n",
    "\n",
    "\n",
    "\n",
    "\n",
    "\n",
    "\n",
    "\n",
    "[1] Hoogeveen, Doris and Verspoor, Karin M. and Baldwin, Timothy. [*CQADupStack: A Benchmark Data Set for Community Question-Answering Research*](https://dl.acm.org/doi/10.1145/2838931.2838934). ACM, 2015."
   ]
  },
  {
   "cell_type": "markdown",
   "id": "u6zDHKMAvvTt",
   "metadata": {
    "id": "u6zDHKMAvvTt",
    "pycharm": {
     "name": "#%% md\n"
    }
   },
   "source": [
    "## Import the utility tools from the git repository.\n",
    "\n",
    "First, we will install [our library](https://github.com/MIR-MU/pv211-utils).\n",
    "\n",
    "It may be necessary to restart the runtime to get the installed packages to work."
   ]
  },
  {
   "cell_type": "code",
   "execution_count": 1,
   "id": "0c23a317",
   "metadata": {
    "id": "0c23a317",
    "tags": []
   },
   "outputs": [],
   "source": [
    "%%capture\n",
    "! pip install git+https://github.com/MIR-MU/pv211-utils.git"
   ]
  },
  {
   "cell_type": "markdown",
   "id": "I0_jZfSIwfcv",
   "metadata": {
    "id": "I0_jZfSIwfcv",
    "pycharm": {
     "name": "#%% md\n"
    }
   },
   "source": [
    "## Define the necessary classes\n",
    "\n",
    "These will eventually represent the Queries, Documents and Relevance Judgements from the CQADupStack collection.\n",
    "\n",
    "Query and Document consist only of their IDs and bodies.\n",
    "Judgements are also just a Set of Tuples that represent pairs of relevant Document-Query combinations."
   ]
  },
  {
   "cell_type": "code",
   "execution_count": 2,
   "id": "d3f3f1a8-2a5b-4d3f-9e68-175909efe906",
   "metadata": {
    "id": "d3f3f1a8-2a5b-4d3f-9e68-175909efe906",
    "pycharm": {
     "name": "#%%\n"
    },
    "tags": []
   },
   "outputs": [],
   "source": [
    "from pv211_utils.beir.entities import BeirDocumentBase, BeirQueryBase, BeirJudgementBase\n",
    "from typing import Set\n",
    "\n",
    "\n",
    "class Query(BeirQueryBase):\n",
    "    \"\"\"\n",
    "    A processed query form the Beir collection.\n",
    "\n",
    "    Parameters\n",
    "    ----------\n",
    "    query_id : int\n",
    "        The number\n",
    "    body : str\n",
    "        Text of a query\n",
    "\n",
    "    \"\"\"\n",
    "\n",
    "    def __init__(self, query_id: int, body: str):\n",
    "        super().__init__(query_id, body)\n",
    "\n",
    "    def __str__(self):\n",
    "        return self.body\n",
    "\n",
    "\n",
    "class Document(BeirDocumentBase):\n",
    "    \"\"\"\n",
    "    A processed document form the Beir collection.\n",
    "\n",
    "    Parameters\n",
    "    ----------\n",
    "    document_id : str\n",
    "        A unique identifier of the document.\n",
    "    body : str\n",
    "        The text of the document.\n",
    "\n",
    "    \"\"\"\n",
    "\n",
    "    def __init__(self, document_id: str, body: str):\n",
    "        super().__init__(document_id, body)\n",
    "\n",
    "    def __str__(self):\n",
    "        return self.body\n",
    "\n",
    "\n",
    "BeirJudgements = Set[BeirJudgementBase]\n"
   ]
  },
  {
   "cell_type": "markdown",
   "id": "5f8f6e32",
   "metadata": {
    "id": "5f8f6e32",
    "pycharm": {
     "name": "#%% md\n"
    }
   },
   "source": [
    "## Loading the datasets\n",
    "### CQADupStack contains 12 datasets that will be loaded and merged:\n",
    "- Android\n",
    "- English\n",
    "- Gaming\n",
    "- GIS\n",
    "- Mathematica\n",
    "- Physics\n",
    "- Programmers\n",
    "- Stats\n",
    "- TeX\n",
    "- Unix\n",
    "- Webmasters\n",
    "- WordPress\n",
    "\n",
    "For more details: <a href=http://nlp.cis.unimelb.edu.au/resources/cqadupstack/>CQADupStack site</a>.\n",
    "\n"
   ]
  },
  {
   "cell_type": "code",
   "execution_count": 3,
   "id": "e1f2a62d",
   "metadata": {
    "id": "e1f2a62d",
    "tags": []
   },
   "outputs": [
    {
     "name": "stderr",
     "output_type": "stream",
     "text": [
      "/usr/local/lib/python3.8/dist-packages/beir/util.py:2: TqdmExperimentalWarning: Using `tqdm.autonotebook.tqdm` in notebook mode. Use `tqdm.tqdm` instead to force console mode (e.g. in jupyter console)\n",
      "  from tqdm.autonotebook import tqdm\n"
     ]
    },
    {
     "data": {
      "application/vnd.jupyter.widget-view+json": {
       "model_id": "f8cf729fe84a4464b86342f9dc274eb4",
       "version_major": 2,
       "version_minor": 0
      },
      "text/plain": [
       "  0%|          | 0/22998 [00:00<?, ?it/s]"
      ]
     },
     "metadata": {},
     "output_type": "display_data"
    },
    {
     "data": {
      "application/vnd.jupyter.widget-view+json": {
       "model_id": "90452500798f40db970e07031ad59e5c",
       "version_major": 2,
       "version_minor": 0
      },
      "text/plain": [
       "  0%|          | 0/40221 [00:00<?, ?it/s]"
      ]
     },
     "metadata": {},
     "output_type": "display_data"
    },
    {
     "data": {
      "application/vnd.jupyter.widget-view+json": {
       "model_id": "a4ed1340ae85435fa00cce816b302df1",
       "version_major": 2,
       "version_minor": 0
      },
      "text/plain": [
       "  0%|          | 0/45301 [00:00<?, ?it/s]"
      ]
     },
     "metadata": {},
     "output_type": "display_data"
    },
    {
     "data": {
      "application/vnd.jupyter.widget-view+json": {
       "model_id": "d9df8ed467c04d9880ba9bd5309122e3",
       "version_major": 2,
       "version_minor": 0
      },
      "text/plain": [
       "  0%|          | 0/37637 [00:00<?, ?it/s]"
      ]
     },
     "metadata": {},
     "output_type": "display_data"
    },
    {
     "data": {
      "application/vnd.jupyter.widget-view+json": {
       "model_id": "5cc652ec41e8459ab5460426f3e73524",
       "version_major": 2,
       "version_minor": 0
      },
      "text/plain": [
       "  0%|          | 0/16705 [00:00<?, ?it/s]"
      ]
     },
     "metadata": {},
     "output_type": "display_data"
    },
    {
     "data": {
      "application/vnd.jupyter.widget-view+json": {
       "model_id": "bade5bda99a04fceadaff75e071903ea",
       "version_major": 2,
       "version_minor": 0
      },
      "text/plain": [
       "  0%|          | 0/38316 [00:00<?, ?it/s]"
      ]
     },
     "metadata": {},
     "output_type": "display_data"
    },
    {
     "data": {
      "application/vnd.jupyter.widget-view+json": {
       "model_id": "127dc23c905d438da30594d8d755ef65",
       "version_major": 2,
       "version_minor": 0
      },
      "text/plain": [
       "  0%|          | 0/32176 [00:00<?, ?it/s]"
      ]
     },
     "metadata": {},
     "output_type": "display_data"
    },
    {
     "data": {
      "application/vnd.jupyter.widget-view+json": {
       "model_id": "107f8c912e014a41ae7f4b2c84b97e55",
       "version_major": 2,
       "version_minor": 0
      },
      "text/plain": [
       "  0%|          | 0/42269 [00:00<?, ?it/s]"
      ]
     },
     "metadata": {},
     "output_type": "display_data"
    },
    {
     "data": {
      "application/vnd.jupyter.widget-view+json": {
       "model_id": "1efb3460384f4db7bb2857ffb0eaa787",
       "version_major": 2,
       "version_minor": 0
      },
      "text/plain": [
       "  0%|          | 0/68184 [00:00<?, ?it/s]"
      ]
     },
     "metadata": {},
     "output_type": "display_data"
    },
    {
     "data": {
      "application/vnd.jupyter.widget-view+json": {
       "model_id": "458d9e7741df4c7dbf828f6d2a835c88",
       "version_major": 2,
       "version_minor": 0
      },
      "text/plain": [
       "  0%|          | 0/47382 [00:00<?, ?it/s]"
      ]
     },
     "metadata": {},
     "output_type": "display_data"
    },
    {
     "data": {
      "application/vnd.jupyter.widget-view+json": {
       "model_id": "d689a3103b6a4f40866392e0b3d33714",
       "version_major": 2,
       "version_minor": 0
      },
      "text/plain": [
       "  0%|          | 0/17405 [00:00<?, ?it/s]"
      ]
     },
     "metadata": {},
     "output_type": "display_data"
    },
    {
     "data": {
      "application/vnd.jupyter.widget-view+json": {
       "model_id": "c4f6b686fcdb40b29c8a910976830600",
       "version_major": 2,
       "version_minor": 0
      },
      "text/plain": [
       "  0%|          | 0/48605 [00:00<?, ?it/s]"
      ]
     },
     "metadata": {},
     "output_type": "display_data"
    }
   ],
   "source": [
    "from pv211_utils.datasets import CQADupStackDataset \n",
    "\n",
    "data = CQADupStackDataset()"
   ]
  },
  {
   "cell_type": "code",
   "execution_count": 4,
   "id": "8649d766",
   "metadata": {
    "id": "8649d766",
    "tags": []
   },
   "outputs": [],
   "source": [
    "documents = data.load_documents(document_class=Document)\n",
    "\n",
    "train_queries = data.load_train_queries(query_class=Query)\n",
    "train_judgements = data.load_train_judgements()\n",
    "\n",
    "validation_queries = data.load_validation_queries(query_class=Query)\n",
    "validation_judgements = data.load_validation_judgements()"
   ]
  },
  {
   "cell_type": "markdown",
   "id": "3fdd10d1",
   "metadata": {
    "id": "3fdd10d1",
    "tags": []
   },
   "source": [
    "## Implementation of information retrieval system\n",
    "\n",
    "Here we will define our IR system. If you want to use your own class it must define a method name `search` that takes a query and returns documents in descending order of relevance to the query.\n",
    "\n",
    "This example returns documents in a decreasing order according to\n",
    "a [*Okapi BestMatch25+*](https://en.wikipedia.org/wiki/Okapi_BM25#Modifications) similarity score between the documents and the given query.\n",
    "\n",
    "If you wish you might use [preprocessing](https://github.com/MIR-MU/pv211-utils/tree/main/pv211_utils/preprocessing) or [ensemble](https://github.com/MIR-MU/pv211-utils/blob/developer/pv211_utils/ensembles.py) techniques from our library."
   ]
  },
  {
   "cell_type": "code",
   "execution_count": 5,
   "id": "199b7549-babf-40d5-8f0e-66a4f130046c",
   "metadata": {
    "tags": []
   },
   "outputs": [],
   "source": [
    "#imports\n",
    "import torch\n",
    "import numpy as np\n",
    "from numpy.linalg import norm\n",
    "from pv211_utils.cranfield.irsystem import CranfieldIRSystemBase\n",
    "from tqdm import tqdm\n",
    "from typing import Iterable, Set, List\n",
    "from sentence_transformers import SentenceTransformer, util, losses, InputExample\n",
    "from sentence_transformers.losses import MultipleNegativesRankingLoss\n",
    "from torch.utils.data import DataLoader"
   ]
  },
  {
   "cell_type": "code",
   "execution_count": 6,
   "id": "48cffd18-3c13-477e-b8de-cca3a6e63725",
   "metadata": {},
   "outputs": [],
   "source": [
    "# if training is True then the data will be transformed again which takes more than 1 hours\n",
    "# if training is False then the data and model will be loaded (see cell with comment \"loading\")\n",
    "training = False"
   ]
  },
  {
   "cell_type": "code",
   "execution_count": 7,
   "id": "7ed1cc1f-4855-41c6-8d24-86189b140b13",
   "metadata": {
    "tags": []
   },
   "outputs": [
    {
     "data": {
      "text/plain": [
       "device(type='cuda')"
      ]
     },
     "execution_count": 7,
     "metadata": {},
     "output_type": "execute_result"
    }
   ],
   "source": [
    "device = torch.device(\"cuda\") if torch.cuda.is_available() else torch.device(\"cpu\")\n",
    "device"
   ]
  },
  {
   "cell_type": "code",
   "execution_count": 8,
   "id": "4a7d6617-9306-4a31-8490-8939316e8dd7",
   "metadata": {
    "tags": []
   },
   "outputs": [],
   "source": [
    "# TRAINING\n",
    "if training:\n",
    "    mmodel = SentenceTransformer('all-mpnet-base-v2').to(device)\n",
    "    train_examples = [InputExample(texts=[i.body, j.body]) for i,j in list(train_judgements)]\n",
    "    \n",
    "    train_dataloader = DataLoader(train_examples, shuffle=True, batch_size=64)\n",
    "    train_loss = losses.MultipleNegativesRankingLoss(model=mmodel)\n",
    "\n",
    "    mmodel.fit(train_objectives=[(train_dataloader, train_loss)], epochs=1, warmup_steps=100)"
   ]
  },
  {
   "cell_type": "code",
   "execution_count": 9,
   "id": "7a5a2670-1057-4d32-8747-f93e33ad9c46",
   "metadata": {
    "tags": []
   },
   "outputs": [],
   "source": [
    "if training:\n",
    "    # it is faster when you encoding multiple document in one time\n",
    "    semantic_document_vectors = []\n",
    "    lst_loop = []\n",
    "    counter = 0\n",
    "    for doc in tqdm(list(documents.values())):\n",
    "        lst_loop.append(doc.body)\n",
    "        counter += 1\n",
    "        if counter == 200:\n",
    "            semantic_document_vectors.extend(mmodel.encode(lst_loop, convert_to_tensor=True))\n",
    "            lst_loop = []\n",
    "            counter = 0\n",
    "\n",
    "    semantic_document_vectors.extend(mmodel.encode(lst_loop, convert_to_tensor=True))\n",
    "    vectors = torch.stack(semantic_document_vectors).cpu().numpy()"
   ]
  },
  {
   "cell_type": "code",
   "execution_count": 10,
   "id": "55687553-d874-4c68-94f3-b78707a3f767",
   "metadata": {},
   "outputs": [],
   "source": [
    "# optional save\n",
    "# if training:\n",
    "#     with open('document_vectors.npy', 'wb') as f:\n",
    "#         np.save(f, my_ssssssemantic_document_vectors)\n",
    "#     mmodel.save(\"model\")"
   ]
  },
  {
   "cell_type": "code",
   "execution_count": 11,
   "id": "afc8b8df-93f0-4253-8d0d-07224a8c4a73",
   "metadata": {
    "tags": []
   },
   "outputs": [],
   "source": [
    "# loading, data avaible at https://drive.google.com/drive/folders/1g74J2yYMwaqlpU1_wY_oX78zIxmM3Sb6?usp=sharing\n",
    "if not training:\n",
    "    with open('my_document_vectors.npy', 'rb') as f:\n",
    "        vectors = np.load(f)\n",
    "    mmodel = SentenceTransformer('model').to(device)"
   ]
  },
  {
   "cell_type": "code",
   "execution_count": 12,
   "id": "1bf16640-c260-4090-8dec-231cc2af8d78",
   "metadata": {
    "tags": []
   },
   "outputs": [],
   "source": [
    "class IRSystem(CranfieldIRSystemBase):\n",
    "\n",
    "    def __init__(self, documents):\n",
    "        index_to_document = dict(enumerate(documents.values()))\n",
    "        self.index_to_document = index_to_document\n",
    "        self._count = 0\n",
    "\n",
    "\n",
    "    def search(self, query: Query) -> Iterable[Document]:\n",
    "        self._count += 1\n",
    "        if self._count % 15 == 0:\n",
    "            print(self._count/3, end=\"% \")\n",
    "        similarities_dict = {}\n",
    "        query_transformer = mmodel.encode(query.body)\n",
    "        a = vectors.dot(query_transformer)\n",
    "        for i in range(len(a)):\n",
    "            similarities_dict[i] = a[i]\n",
    "        \n",
    "        result = [(key, value) for key, value in similarities_dict.items()]\n",
    "        result = sorted(result, key=lambda item: item[1], reverse=True)\n",
    "\n",
    "        for document_number, _ in result:\n",
    "            document = self.index_to_document[document_number]\n",
    "            yield document"
   ]
  },
  {
   "cell_type": "markdown",
   "id": "EiuNlaI76EPe",
   "metadata": {
    "id": "EiuNlaI76EPe",
    "pycharm": {
     "name": "#%% md\n"
    }
   },
   "source": [
    "## Evaluate the system on a given dataset\n",
    "\n",
    "We will evaluate the IR system using the [Mean Average Precision](https://en.wikipedia.org/wiki/Evaluation_measures_(information_retrieval)#Mean_average_precision) (MAP)."
   ]
  },
  {
   "cell_type": "code",
   "execution_count": 13,
   "id": "a297dbfb",
   "metadata": {
    "id": "a297dbfb",
    "tags": []
   },
   "outputs": [],
   "source": [
    "from pv211_utils.beir.leaderboard import BeirLeaderboard\n",
    "from pv211_utils.beir.eval import BeirEvaluation\n",
    "\n",
    "test_queries = data.load_test_queries(Query)\n",
    "test_judgements = data.load_test_judgements()\n",
    "leaderboard = BeirLeaderboard()"
   ]
  },
  {
   "cell_type": "code",
   "execution_count": 14,
   "id": "85468abb-1f6f-4592-a222-25af7ad78303",
   "metadata": {
    "tags": []
   },
   "outputs": [
    {
     "name": "stdout",
     "output_type": "stream",
     "text": [
      "5.0% 10.0% 15.0% 20.0% 25.0% 30.0% 35.0% 40.0% 45.0% 50.0% 55.0% 60.0% 65.0% 70.0% 75.0% 80.0% 85.0% 90.0% 95.0% 100.0% "
     ]
    },
    {
     "data": {
      "text/markdown": [
       "Your system achieved **39.74% MAP score**."
      ],
      "text/plain": [
       "<IPython.core.display.Markdown object>"
      ]
     },
     "metadata": {},
     "output_type": "display_data"
    },
    {
     "data": {
      "text/markdown": [
       "Congratulations, you passed the **25%** minimum! 🥳"
      ],
      "text/plain": [
       "<IPython.core.display.Markdown object>"
      ]
     },
     "metadata": {},
     "output_type": "display_data"
    },
    {
     "data": {
      "text/markdown": [
       "Set `submit_result = True` and write your name to the `author_name` variable to submit your result to [the leaderboard](https://docs.google.com/spreadsheets/d/e/2PACX-1vSLYKoYcsTgyTp2T-pNgW2heZrwvmBVKAgWAAG_vELv8kgnxHffnJ-IKt5huAacvO7r-zKWOgSiqWFU/pubhtml?gid=0&single=true). 🏆\n",
       "\n",
       "The best submissions on the leaderboard will receive *small awards during the semester*, and some *__seriously big__ awards* after the personal check at the end of the competition (2023-05-01). Please be polite, do not spoil the game for the others, and **have fun!** 😉"
      ],
      "text/plain": [
       "<IPython.core.display.Markdown object>"
      ]
     },
     "metadata": {},
     "output_type": "display_data"
    }
   ],
   "source": [
    "submit_result = False\n",
    "author_name = 'Strompová, Alžbeta'\n",
    "\n",
    "system = IRSystem(documents)\n",
    "evaluation = BeirEvaluation(IRSystem(documents), test_judgements, k=10, leaderboard=leaderboard, author_name=author_name)\n",
    "evaluation.evaluate(test_queries, submit_result)"
   ]
  }
 ],
 "metadata": {
  "colab": {
   "name": "beir_cqadupstack.ipynb",
   "provenance": [
    {
     "file_id": "https://github.com/MIR-MU/pv211-utils/blob/main/notebooks/beir_cqadupstack.ipynb",
     "timestamp": 1681558161545
    }
   ]
  },
  "gpuClass": "standard",
  "kernelspec": {
   "display_name": "Python 3 (ipykernel)",
   "language": "python",
   "name": "python3"
  },
  "language_info": {
   "codemirror_mode": {
    "name": "ipython",
    "version": 3
   },
   "file_extension": ".py",
   "mimetype": "text/x-python",
   "name": "python",
   "nbconvert_exporter": "python",
   "pygments_lexer": "ipython3",
   "version": "3.8.10"
  },
  "vscode": {
   "interpreter": {
    "hash": "97b31d6e62de2216a05dd9342162045e53cee058ed98d00a361b193ba69cab9f"
   }
  }
 },
 "nbformat": 4,
 "nbformat_minor": 5
}
